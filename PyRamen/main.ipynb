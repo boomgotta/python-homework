{
 "cells": [
  {
   "cell_type": "code",
   "execution_count": null,
   "id": "ec8d5582-6107-4891-92aa-a93720dcad38",
   "metadata": {},
   "outputs": [],
   "source": []
  }
 ],
 "metadata": {
  "kernelspec": {
   "display_name": "",
   "name": ""
  },
  "language_info": {
   "name": ""
  }
 },
 "nbformat": 4,
 "nbformat_minor": 5
}
