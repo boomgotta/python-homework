{
 "cells": [
  {
   "cell_type": "code",
   "execution_count": null,
   "id": "45c6d2a7-2f3b-4477-9fb4-b51927d712ff",
   "metadata": {},
   "outputs": [],
   "source": []
  }
 ],
 "metadata": {
  "kernelspec": {
   "display_name": "",
   "name": ""
  },
  "language_info": {
   "name": ""
  }
 },
 "nbformat": 4,
 "nbformat_minor": 5
}
